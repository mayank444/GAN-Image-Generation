{
  "nbformat": 4,
  "nbformat_minor": 0,
  "metadata": {
    "colab": {
      "name": "Untitled8.ipynb",
      "provenance": [],
      "collapsed_sections": [],
      "mount_file_id": "1ZMYKM7j0WjCd0JnT5jP3-simjuNBG1_h",
      "authorship_tag": "ABX9TyMZB+2Ja/1o7YFv2JLr7buj",
      "include_colab_link": true
    },
    "kernelspec": {
      "name": "python3",
      "display_name": "Python 3"
    }
  },
  "cells": [
    {
      "cell_type": "markdown",
      "metadata": {
        "id": "view-in-github",
        "colab_type": "text"
      },
      "source": [
        "<a href=\"https://colab.research.google.com/github/mayank444/GAN-Image-Generation/blob/main/Untitled8.ipynb\" target=\"_parent\"><img src=\"https://colab.research.google.com/assets/colab-badge.svg\" alt=\"Open In Colab\"/></a>"
      ]
    },
    {
      "cell_type": "markdown",
      "metadata": {
        "id": "SKru7ttp4ICP"
      },
      "source": [
        "# GAN generator network"
      ]
    },
    {
      "cell_type": "code",
      "metadata": {
        "colab": {
          "base_uri": "https://localhost:8080/"
        },
        "id": "j9F60PO_3jhE",
        "outputId": "6e2c3b0d-a1ad-400b-b0aa-91e40f1bc84a"
      },
      "source": [
        "import keras\r\n",
        "from keras import layers\r\n",
        "import numpy as np\r\n",
        "from keras import Model\r\n",
        "\r\n",
        "latent_dim = 32\r\n",
        "height = 32\r\n",
        "width = 32\r\n",
        "channels = 3\r\n",
        "\r\n",
        "generator_input = keras.Input(shape=(latent_dim,))\r\n",
        "\r\n",
        "x = layers.Dense(128*16*16)(generator_input)#Transform the input into a 16*16 128-channel feature map\r\n",
        "x = layers.LeakyReLU()(x)\r\n",
        "x = layers.Reshape((16,16,128))(x)\r\n",
        "\r\n",
        "x = layers.Conv2D(256,5,padding='same')(x)\r\n",
        "x = layers.LeakyReLU()(x)\r\n",
        "\r\n",
        "x = layers.Conv2DTranspose(256,4,strides=(2,2),padding='same')(x)\r\n",
        "x = layers.LeakyReLU()(x)\r\n",
        "\r\n",
        "x = layers.Conv2D(256,5,padding='same')(x)\r\n",
        "x = layers.LeakyReLU()(x)\r\n",
        "x = layers.Conv2D(256,5,padding='same')(x)\r\n",
        "x = layers.LeakyReLU()(x)\r\n",
        "\r\n",
        "x =layers.Conv2D(channels,7,activation='tanh',padding='same')(x)\r\n",
        "generator = Model(generator_input,x)\r\n",
        "generator.summary()"
      ],
      "execution_count": null,
      "outputs": [
        {
          "output_type": "stream",
          "text": [
            "Model: \"model\"\n",
            "_________________________________________________________________\n",
            "Layer (type)                 Output Shape              Param #   \n",
            "=================================================================\n",
            "input_1 (InputLayer)         [(None, 32)]              0         \n",
            "_________________________________________________________________\n",
            "dense (Dense)                (None, 32768)             1081344   \n",
            "_________________________________________________________________\n",
            "leaky_re_lu (LeakyReLU)      (None, 32768)             0         \n",
            "_________________________________________________________________\n",
            "reshape (Reshape)            (None, 16, 16, 128)       0         \n",
            "_________________________________________________________________\n",
            "conv2d (Conv2D)              (None, 16, 16, 256)       819456    \n",
            "_________________________________________________________________\n",
            "leaky_re_lu_1 (LeakyReLU)    (None, 16, 16, 256)       0         \n",
            "_________________________________________________________________\n",
            "conv2d_transpose (Conv2DTran (None, 32, 32, 256)       1048832   \n",
            "_________________________________________________________________\n",
            "leaky_re_lu_2 (LeakyReLU)    (None, 32, 32, 256)       0         \n",
            "_________________________________________________________________\n",
            "conv2d_1 (Conv2D)            (None, 32, 32, 256)       1638656   \n",
            "_________________________________________________________________\n",
            "leaky_re_lu_3 (LeakyReLU)    (None, 32, 32, 256)       0         \n",
            "_________________________________________________________________\n",
            "conv2d_2 (Conv2D)            (None, 32, 32, 256)       1638656   \n",
            "_________________________________________________________________\n",
            "leaky_re_lu_4 (LeakyReLU)    (None, 32, 32, 256)       0         \n",
            "_________________________________________________________________\n",
            "conv2d_3 (Conv2D)            (None, 32, 32, 3)         37635     \n",
            "=================================================================\n",
            "Total params: 6,264,579\n",
            "Trainable params: 6,264,579\n",
            "Non-trainable params: 0\n",
            "_________________________________________________________________\n"
          ],
          "name": "stdout"
        }
      ]
    },
    {
      "cell_type": "markdown",
      "metadata": {
        "id": "H-OS_nBL_AI5"
      },
      "source": [
        "# GAN discriminator network"
      ]
    },
    {
      "cell_type": "code",
      "metadata": {
        "colab": {
          "base_uri": "https://localhost:8080/"
        },
        "id": "xT-5O4EJ4BAf",
        "outputId": "53e0f788-695b-41ef-8ccf-3ec6cc858057"
      },
      "source": [
        "discriminator_input = keras.Input(shape=(height,width,channels))\r\n",
        "x = layers.Conv2D(128,3)(discriminator_input)\r\n",
        "x = layers.LeakyReLU()(x)\r\n",
        "x = layers.Conv2D(128,4,strides=2)(x)\r\n",
        "x = layers.LeakyReLU()(x)\r\n",
        "x = layers.Conv2D(128,4,strides=2)(x)\r\n",
        "x = layers.LeakyReLU()(x)\r\n",
        "x = layers.Conv2D(128,4,strides=2)(x)\r\n",
        "x = layers.LeakyReLU()(x)\r\n",
        "x = layers.Flatten()(x)\r\n",
        "\r\n",
        "x = layers.Dropout(0.5)(x)\r\n",
        "x = layers.Dense(1,activation='sigmoid')(x)#output layer\r\n",
        "\r\n",
        "discriminator = Model(discriminator_input,x)\r\n",
        "discriminator.summary()\r\n",
        "\r\n",
        "discriminator_optimizer = keras.optimizers.RMSprop(lr=0.0008,\r\n",
        "                                                    clipvalue=1.0,\r\n",
        "                                                    decay=1e-8)\r\n",
        "discriminator.compile(optimizer=discriminator_optimizer,loss='binary_crossentropy')"
      ],
      "execution_count": null,
      "outputs": [
        {
          "output_type": "stream",
          "text": [
            "Model: \"model_1\"\n",
            "_________________________________________________________________\n",
            "Layer (type)                 Output Shape              Param #   \n",
            "=================================================================\n",
            "input_2 (InputLayer)         [(None, 32, 32, 3)]       0         \n",
            "_________________________________________________________________\n",
            "conv2d_4 (Conv2D)            (None, 30, 30, 128)       3584      \n",
            "_________________________________________________________________\n",
            "leaky_re_lu_5 (LeakyReLU)    (None, 30, 30, 128)       0         \n",
            "_________________________________________________________________\n",
            "conv2d_5 (Conv2D)            (None, 14, 14, 128)       262272    \n",
            "_________________________________________________________________\n",
            "leaky_re_lu_6 (LeakyReLU)    (None, 14, 14, 128)       0         \n",
            "_________________________________________________________________\n",
            "conv2d_6 (Conv2D)            (None, 6, 6, 128)         262272    \n",
            "_________________________________________________________________\n",
            "leaky_re_lu_7 (LeakyReLU)    (None, 6, 6, 128)         0         \n",
            "_________________________________________________________________\n",
            "conv2d_7 (Conv2D)            (None, 2, 2, 128)         262272    \n",
            "_________________________________________________________________\n",
            "leaky_re_lu_8 (LeakyReLU)    (None, 2, 2, 128)         0         \n",
            "_________________________________________________________________\n",
            "flatten (Flatten)            (None, 512)               0         \n",
            "_________________________________________________________________\n",
            "dropout (Dropout)            (None, 512)               0         \n",
            "_________________________________________________________________\n",
            "dense_1 (Dense)              (None, 1)                 513       \n",
            "=================================================================\n",
            "Total params: 790,913\n",
            "Trainable params: 790,913\n",
            "Non-trainable params: 0\n",
            "_________________________________________________________________\n"
          ],
          "name": "stdout"
        }
      ]
    },
    {
      "cell_type": "markdown",
      "metadata": {
        "id": "rAFmHB59D7CZ"
      },
      "source": [
        "# Adversarial network"
      ]
    },
    {
      "cell_type": "code",
      "metadata": {
        "id": "Os3CjlT5DHsE"
      },
      "source": [
        "# Discriminator should be frozen(non_trainable) during training\r\n",
        "discriminator.trainable = False\r\n",
        "gan_input = keras.Input(shape=(latent_dim,))\r\n",
        "gan_output = discriminator(generator(gan_input))\r\n",
        "gan = Model(gan_input,gan_output)\r\n",
        "gan_optimizer = keras.optimizers.RMSprop(lr=0.0004,clipvalue=1.0,decay=1e-8)\r\n",
        "gan.compile(optimizer=gan_optimizer,loss='binary_crossentropy')"
      ],
      "execution_count": null,
      "outputs": []
    },
    {
      "cell_type": "markdown",
      "metadata": {
        "id": "Ov2kUp_CAhBK"
      },
      "source": [
        "# Implementing GAN network"
      ]
    },
    {
      "cell_type": "code",
      "metadata": {
        "id": "GuJ1kqSsBQPI"
      },
      "source": [
        "import os\r\n",
        "from keras.preprocessing import image\r\n",
        "(X_train,y_train),(_,_) = keras.datasets.cifar10.load_data()\r\n",
        "X_train = X_train[y_train.flatten()==6]\r\n",
        "X_train = X_train.reshape((X_train.shape[0],)+(height,width,channels)).astype('float32')/255.\r\n",
        "\r\n",
        "iterations = 10000\r\n",
        "batch_size = 20\r\n",
        "save_dir = \"/content/drive/MyDrive/Colab Notebooks/datasets\" #directory where you want to save images\r\n",
        "\r\n",
        "start = 0\r\n",
        "for step in range(iterations):\r\n",
        "  random_latent_vectors = np.random.normal(size=(batch_size,latent_dim))\r\n",
        "  generated_images = generator.predict(random_latent_vectors)\r\n",
        "  stop = start+batch_size\r\n",
        "  real_images = X_train[start:stop]\r\n",
        "  combined_images = np.concatenate([generated_images,real_images])\r\n",
        "  labels = np.concatenate([np.ones((batch_size,1)),np.zeros((batch_size,1))])\r\n",
        "  labels += 0.05*np.random.random(labels.shape)\r\n",
        "  \r\n",
        "  d_loss = discriminator.train_on_batch(combined_images,labels) #train discriminator\r\n",
        "  misleading_targets = np.zeros((batch_size,1))\r\n",
        "  a_loss = gan.train_on_batch(random_latent_vectors,misleading_targets) #train generator\r\n",
        "\r\n",
        "  start = start+batch_size\r\n",
        "  if start>len(X_train)-batch_size:\r\n",
        "    start = 0\r\n",
        "  \r\n",
        "  if start%100==0:\r\n",
        "    gan.save_weights('gan.h5')\r\n",
        "\r\n",
        "  print('discriminator_loss:',d_loss)\r\n",
        "  print('adversarial_loss:',a_loss)\r\n",
        "\r\n",
        "  # save one image for comparison\r\n",
        "\r\n",
        "  img = image.array_to_img(generated_images[0]*255.,scale=False)\r\n",
        "  img.save(os.path.join(save_dir,'generated frog'+str(step)+'.png'))\r\n",
        "\r\n",
        "  img = image.array_to_img(real_images[0]*255.,scale=False)\r\n",
        "  img.save(os.path.join(save_dir,'real frog'+str(step)+'.png'))\r\n"
      ],
      "execution_count": null,
      "outputs": []
    }
  ]
}